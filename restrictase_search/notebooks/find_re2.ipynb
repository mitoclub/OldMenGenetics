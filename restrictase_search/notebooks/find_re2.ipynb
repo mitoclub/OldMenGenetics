{
 "cells": [
  {
   "cell_type": "markdown",
   "metadata": {},
   "source": [
    "## We need to find set of REs that:\n",
    "1. one of the REs must cut human mtDNA only one time\n",
    "2. other REs must not cut mtDNA but must cut nuclear DNA to pieces less than 3-5kb"
   ]
  },
  {
   "cell_type": "code",
   "execution_count": 2,
   "metadata": {},
   "outputs": [],
   "source": [
    "import re\n",
    "import random\n",
    "from collections import Counter\n",
    "from multiprocessing import Pool\n",
    "from typing import Dict, List\n",
    "\n",
    "import pandas as pd\n",
    "from Bio.Restriction import Analysis, AllEnzymes, RestrictionBatch\n",
    "from Bio.SeqRecord import SeqRecord\n",
    "from Bio import SeqIO\n",
    "import tqdm"
   ]
  },
  {
   "cell_type": "code",
   "execution_count": 1,
   "metadata": {},
   "outputs": [],
   "source": [
    "PIECES_SIZE = 5000\n",
    "PATH_TO_HUMAN_GENOME = \"../data/external/GCF_000001405.40/ncbi_dataset/data/GCF_000001405.40/*.fna\"\n",
    "# PATH_TO_RE = \"../data/processed/cuted_seqs_num.csv\"\n",
    "PATH_TO_REF_MT = \"../data/external/NC_012920.1.fasta\"\n",
    "PATH_TO_SEQS_MT = \"../data/raw/sequence.fasta\"\n",
    "\n",
    "PATH_TO_OUT_RE_WITHOUT_SITE = \"../data/processed/...\""
   ]
  },
  {
   "cell_type": "code",
   "execution_count": 3,
   "metadata": {},
   "outputs": [
    {
     "data": {
      "text/plain": [
       "978"
      ]
     },
     "execution_count": 3,
     "metadata": {},
     "output_type": "execute_result"
    }
   ],
   "source": [
    "len(AllEnzymes)"
   ]
  },
  {
   "cell_type": "code",
   "execution_count": 4,
   "metadata": {},
   "outputs": [],
   "source": [
    "# human_genome = SeqIO.parse(PATH_TO_HUMAN_GENOME, \"fasta\")\n",
    "mt_seqs = SeqIO.parse(PATH_TO_SEQS_MT, \"fasta\")\n",
    "ref_mt = next(SeqIO.parse(PATH_TO_REF_MT, \"fasta\"))"
   ]
  },
  {
   "cell_type": "markdown",
   "metadata": {},
   "source": [
    "## Search the enzymes that don't cut mtDNA"
   ]
  },
  {
   "cell_type": "code",
   "execution_count": 5,
   "metadata": {},
   "outputs": [],
   "source": [
    "def extract_RE_without_site_on_mt(rec: SeqRecord) -> List[Dict]:\n",
    "    ana = Analysis(AllEnzymes, rec.seq, linear=False)\n",
    "    data = []\n",
    "    for restr_enz in ana.without_site():\n",
    "        re_name = repr(restr_enz)\n",
    "        one_data = {\"RE\": re_name, \"SeqName\": rec.description}\n",
    "        data.append(one_data)\n",
    "    return data"
   ]
  },
  {
   "cell_type": "code",
   "execution_count": 13,
   "metadata": {},
   "outputs": [
    {
     "data": {
      "text/html": [
       "<div>\n",
       "<style scoped>\n",
       "    .dataframe tbody tr th:only-of-type {\n",
       "        vertical-align: middle;\n",
       "    }\n",
       "\n",
       "    .dataframe tbody tr th {\n",
       "        vertical-align: top;\n",
       "    }\n",
       "\n",
       "    .dataframe thead th {\n",
       "        text-align: right;\n",
       "    }\n",
       "</style>\n",
       "<table border=\"1\" class=\"dataframe\">\n",
       "  <thead>\n",
       "    <tr style=\"text-align: right;\">\n",
       "      <th></th>\n",
       "      <th>RE</th>\n",
       "      <th>SeqName</th>\n",
       "    </tr>\n",
       "  </thead>\n",
       "  <tbody>\n",
       "    <tr>\n",
       "      <th>0</th>\n",
       "      <td>PspXI</td>\n",
       "      <td>NC_012920.1 Homo sapiens mitochondrion, comple...</td>\n",
       "    </tr>\n",
       "    <tr>\n",
       "      <th>1</th>\n",
       "      <td>BssHII</td>\n",
       "      <td>NC_012920.1 Homo sapiens mitochondrion, comple...</td>\n",
       "    </tr>\n",
       "    <tr>\n",
       "      <th>2</th>\n",
       "      <td>SrfI</td>\n",
       "      <td>NC_012920.1 Homo sapiens mitochondrion, comple...</td>\n",
       "    </tr>\n",
       "    <tr>\n",
       "      <th>3</th>\n",
       "      <td>TspARh3I</td>\n",
       "      <td>NC_012920.1 Homo sapiens mitochondrion, comple...</td>\n",
       "    </tr>\n",
       "    <tr>\n",
       "      <th>4</th>\n",
       "      <td>Ple19I</td>\n",
       "      <td>NC_012920.1 Homo sapiens mitochondrion, comple...</td>\n",
       "    </tr>\n",
       "    <tr>\n",
       "      <th>...</th>\n",
       "      <td>...</td>\n",
       "      <td>...</td>\n",
       "    </tr>\n",
       "    <tr>\n",
       "      <th>101</th>\n",
       "      <td>CpoI</td>\n",
       "      <td>NC_012920.1 Homo sapiens mitochondrion, comple...</td>\n",
       "    </tr>\n",
       "    <tr>\n",
       "      <th>102</th>\n",
       "      <td>CciNI</td>\n",
       "      <td>NC_012920.1 Homo sapiens mitochondrion, comple...</td>\n",
       "    </tr>\n",
       "    <tr>\n",
       "      <th>103</th>\n",
       "      <td>Sth20745III</td>\n",
       "      <td>NC_012920.1 Homo sapiens mitochondrion, comple...</td>\n",
       "    </tr>\n",
       "    <tr>\n",
       "      <th>104</th>\n",
       "      <td>AdeI</td>\n",
       "      <td>NC_012920.1 Homo sapiens mitochondrion, comple...</td>\n",
       "    </tr>\n",
       "    <tr>\n",
       "      <th>105</th>\n",
       "      <td>HspMHR1II</td>\n",
       "      <td>NC_012920.1 Homo sapiens mitochondrion, comple...</td>\n",
       "    </tr>\n",
       "  </tbody>\n",
       "</table>\n",
       "<p>106 rows × 2 columns</p>\n",
       "</div>"
      ],
      "text/plain": [
       "              RE                                            SeqName\n",
       "0          PspXI  NC_012920.1 Homo sapiens mitochondrion, comple...\n",
       "1         BssHII  NC_012920.1 Homo sapiens mitochondrion, comple...\n",
       "2           SrfI  NC_012920.1 Homo sapiens mitochondrion, comple...\n",
       "3       TspARh3I  NC_012920.1 Homo sapiens mitochondrion, comple...\n",
       "4         Ple19I  NC_012920.1 Homo sapiens mitochondrion, comple...\n",
       "..           ...                                                ...\n",
       "101         CpoI  NC_012920.1 Homo sapiens mitochondrion, comple...\n",
       "102        CciNI  NC_012920.1 Homo sapiens mitochondrion, comple...\n",
       "103  Sth20745III  NC_012920.1 Homo sapiens mitochondrion, comple...\n",
       "104         AdeI  NC_012920.1 Homo sapiens mitochondrion, comple...\n",
       "105    HspMHR1II  NC_012920.1 Homo sapiens mitochondrion, comple...\n",
       "\n",
       "[106 rows x 2 columns]"
      ]
     },
     "execution_count": 13,
     "metadata": {},
     "output_type": "execute_result"
    }
   ],
   "source": [
    "pd.DataFrame(extract_RE_without_site_on_mt(ref_mt))"
   ]
  },
  {
   "cell_type": "code",
   "execution_count": null,
   "metadata": {},
   "outputs": [],
   "source": [
    "# more than 1 hour and 10GB of RAM, really\n",
    "threads = 24\n",
    "with Pool(threads) as p:\n",
    "    collection_of_pot_rs = p.map(extract_RE_without_site_on_mt, mt_seqs)"
   ]
  },
  {
   "cell_type": "code",
   "execution_count": null,
   "metadata": {},
   "outputs": [],
   "source": [
    "pot_rs = []\n",
    "for xx in collection_of_pot_rs:\n",
    "    for x in xx:\n",
    "        pot_rs.append(x)\n",
    "\n",
    "df = pd.DataFrame(pot_rs)\n",
    "df.to_csv(PATH_TO_OUT_RE_WITHOUT_SITE, index=None)"
   ]
  },
  {
   "cell_type": "code",
   "execution_count": null,
   "metadata": {},
   "outputs": [],
   "source": [
    "df_counts = df.RE.value_counts().reset_index()\n",
    "df_counts.columns = [\"RE\", \"CuttedSeqs\"]\n",
    "df_counts.to_csv(PATH_TO_OUT_CUTNUM, index=None)"
   ]
  },
  {
   "cell_type": "code",
   "execution_count": null,
   "metadata": {},
   "outputs": [],
   "source": [
    "REs_without_site_on_mt = ..."
   ]
  },
  {
   "cell_type": "markdown",
   "metadata": {},
   "source": [
    "## Search of minimal subset of REs that destroy muclear DNA\n",
    "\n",
    "1. initially need to add to the set ClaI, as RE that cut mtDNA only one time\n",
    "2. drop RE dublicates\n",
    "3. apply approach from GO hw2"
   ]
  },
  {
   "cell_type": "code",
   "execution_count": 6,
   "metadata": {},
   "outputs": [
    {
     "data": {
      "text/plain": [
       "RestrictionType"
      ]
     },
     "execution_count": 6,
     "metadata": {},
     "output_type": "execute_result"
    }
   ],
   "source": [
    "type(AllEnzymes.get(\"ClaI\"))"
   ]
  },
  {
   "cell_type": "code",
   "execution_count": 7,
   "metadata": {},
   "outputs": [
    {
     "data": {
      "text/plain": [
       "RestrictionBatch(['ClaI'])"
      ]
     },
     "execution_count": 7,
     "metadata": {},
     "output_type": "execute_result"
    }
   ],
   "source": [
    "maximal_subset = RestrictionBatch([\"ClaI\"] + REs_without_site_on_mt)"
   ]
  },
  {
   "cell_type": "code",
   "execution_count": 10,
   "metadata": {},
   "outputs": [],
   "source": [
    "ClaI = AllEnzymes.get(\"ClaI\")"
   ]
  },
  {
   "cell_type": "code",
   "execution_count": 16,
   "metadata": {},
   "outputs": [
    {
     "data": {
      "text/plain": [
       "(2, -2, None, None, 'ATCGAT')"
      ]
     },
     "execution_count": 16,
     "metadata": {},
     "output_type": "execute_result"
    }
   ],
   "source": [
    "ClaI.charac"
   ]
  },
  {
   "cell_type": "code",
   "execution_count": 43,
   "metadata": {},
   "outputs": [
    {
     "name": "stdout",
     "output_type": "stream",
     "text": [
      "\u001b[0;31mSignature:\u001b[0m \u001b[0mClaI\u001b[0m\u001b[0;34m.\u001b[0m\u001b[0misoschizomers\u001b[0m\u001b[0;34m(\u001b[0m\u001b[0mbatch\u001b[0m\u001b[0;34m=\u001b[0m\u001b[0;32mNone\u001b[0m\u001b[0;34m)\u001b[0m\u001b[0;34m\u001b[0m\u001b[0;34m\u001b[0m\u001b[0m\n",
      "\u001b[0;31mDocstring:\u001b[0m\n",
      "List all isoschizomers of the enzyme.\n",
      "\n",
      "Return a tuple of all the equischizomers and neoschizomers of RE.\n",
      "If batch is supplied it is used instead of the default AllEnzymes.\n",
      "\u001b[0;31mFile:\u001b[0m      ~/env_bio/lib/python3.8/site-packages/Bio/Restriction/Restriction.py\n",
      "\u001b[0;31mType:\u001b[0m      method\n"
     ]
    }
   ],
   "source": [
    "# we need to use isoschizomers (equischizomers+neoschizomers)\n",
    "ClaI.isoschizomers?"
   ]
  },
  {
   "cell_type": "code",
   "execution_count": 39,
   "metadata": {},
   "outputs": [
    {
     "data": {
      "text/plain": [
       "[Bsa29I, BseCI, BshVI, BspDI, Bsu15I, BsuTUI]"
      ]
     },
     "execution_count": 39,
     "metadata": {},
     "output_type": "execute_result"
    }
   ],
   "source": [
    "ClaI.isoschizomers()"
   ]
  },
  {
   "cell_type": "code",
   "execution_count": 50,
   "metadata": {},
   "outputs": [],
   "source": [
    "def collect_isoschizomers(enzymes: RestrictionBatch) -> List[List[str]]:\n",
    "    data = []\n",
    "    visited = set()\n",
    "    for RE in enzymes:\n",
    "        if repr(RE) in visited:\n",
    "            continue\n",
    "\n",
    "        visited.add(repr(RE))\n",
    "        isosh_names = []\n",
    "        for isosh in RE.isoschizomers():\n",
    "            visited.add(repr(isosh))\n",
    "            isosh_names.append(repr(isosh))\n",
    "        data.append([repr(RE)] + isosh_names)\n",
    "    return data"
   ]
  },
  {
   "cell_type": "code",
   "execution_count": 53,
   "metadata": {},
   "outputs": [],
   "source": [
    "full_isosh = collect_isoschizomers(AllEnzymes)\n",
    "with open(\"../data/processed/full_isoschizomers.txt\", \"w\") as fout:\n",
    "    for batch in full_isosh:\n",
    "        fout.write(\",\".join(batch) + \"\\n\")"
   ]
  },
  {
   "cell_type": "code",
   "execution_count": null,
   "metadata": {},
   "outputs": [],
   "source": [
    "for chromosome in human_genome:\n",
    "    for partof_chr in re.split(\"N{50,}\", chromosome):\n",
    "        if \"mt\" in partof_chr.description.lower():\n",
    "            continue\n",
    "        ana = Analysis(maximal_subset, partof_chr.seq)\n",
    "        for enzyme, positions in ana.with_sites().items():\n",
    "            # use values to sort and write to table\n",
    "            # after that analize table and create subset\n",
    "            pass\n",
    "        \n",
    "\n",
    "    break"
   ]
  },
  {
   "cell_type": "code",
   "execution_count": null,
   "metadata": {},
   "outputs": [],
   "source": []
  }
 ],
 "metadata": {
  "kernelspec": {
   "display_name": "Python 3.9.5 ('env_bio')",
   "language": "python",
   "name": "python3"
  },
  "language_info": {
   "codemirror_mode": {
    "name": "ipython",
    "version": 3
   },
   "file_extension": ".py",
   "mimetype": "text/x-python",
   "name": "python",
   "nbconvert_exporter": "python",
   "pygments_lexer": "ipython3",
   "version": "3.9.5"
  },
  "orig_nbformat": 4,
  "vscode": {
   "interpreter": {
    "hash": "c737589ac25c2b5207a58295544dae93bde342e9f173b68ed1d9625ade55517f"
   }
  }
 },
 "nbformat": 4,
 "nbformat_minor": 2
}
