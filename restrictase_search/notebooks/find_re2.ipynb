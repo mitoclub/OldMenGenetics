{
 "cells": [
  {
   "cell_type": "markdown",
   "metadata": {},
   "source": [
    "## We need to find set of REs that:\n",
    "1. one of the REs must cut human mtDNA only one time\n",
    "2. other REs must not cut mtDNA but must cut nuclear DNA to pieces less than 3-5kb"
   ]
  },
  {
   "cell_type": "code",
   "execution_count": 1,
   "metadata": {},
   "outputs": [],
   "source": [
    "import re\n",
    "import random\n",
    "import glob\n",
    "from collections import Counter\n",
    "from multiprocessing import Pool\n",
    "from typing import Dict, List\n",
    "\n",
    "import pandas as pd\n",
    "import matplotlib.pyplot as plt\n",
    "from Bio.Restriction import Analysis, AllEnzymes, RestrictionBatch\n",
    "from Bio.SeqRecord import SeqRecord\n",
    "from Bio import SeqIO\n",
    "import tqdm"
   ]
  },
  {
   "cell_type": "code",
   "execution_count": 2,
   "metadata": {},
   "outputs": [],
   "source": [
    "PIECES_SIZE = 5000\n",
    "PATH_TO_HUMAN_GENOME = \"../data/external/GCF_000001405.40/ncbi_dataset/data/GCF_000001405.40/*.fna\"\n",
    "# PATH_TO_RE = \"../data/processed/cuted_seqs_num.csv\"\n",
    "PATH_TO_REF_MT = \"../data/external/NC_012920.1.fasta\"\n",
    "PATH_TO_SEQS_MT = \"../data/raw/sequence.fasta\""
   ]
  },
  {
   "cell_type": "code",
   "execution_count": 3,
   "metadata": {},
   "outputs": [
    {
     "data": {
      "text/plain": [
       "978"
      ]
     },
     "execution_count": 3,
     "metadata": {},
     "output_type": "execute_result"
    }
   ],
   "source": [
    "len(AllEnzymes)"
   ]
  },
  {
   "cell_type": "code",
   "execution_count": 4,
   "metadata": {},
   "outputs": [],
   "source": [
    "# human_genome = SeqIO.parse(PATH_TO_HUMAN_GENOME, \"fasta\")\n",
    "mt_seqs = SeqIO.parse(PATH_TO_SEQS_MT, \"fasta\")\n",
    "ref_mt = next(SeqIO.parse(PATH_TO_REF_MT, \"fasta\"))"
   ]
  },
  {
   "cell_type": "markdown",
   "metadata": {},
   "source": [
    "## Search the enzymes that don't cut mtDNA"
   ]
  },
  {
   "cell_type": "code",
   "execution_count": 5,
   "metadata": {},
   "outputs": [],
   "source": [
    "def extract_RE_without_site_on_mt(rec: SeqRecord) -> List[Dict]:\n",
    "    ana = Analysis(AllEnzymes, rec.seq, linear=False)\n",
    "    data = []\n",
    "    for restr_enz in ana.without_site():\n",
    "        re_name = repr(restr_enz)\n",
    "        one_data = {\"RE\": re_name, \"SeqName\": rec.description}\n",
    "        data.append(one_data)\n",
    "    return data"
   ]
  },
  {
   "cell_type": "code",
   "execution_count": 7,
   "metadata": {},
   "outputs": [],
   "source": [
    "# 27 min and 10GB of RAM\n",
    "threads = 24\n",
    "with Pool(threads) as p:\n",
    "    collection_of_pot_rs = p.map(extract_RE_without_site_on_mt, mt_seqs)"
   ]
  },
  {
   "cell_type": "code",
   "execution_count": 11,
   "metadata": {},
   "outputs": [
    {
     "data": {
      "text/html": [
       "<div>\n",
       "<style scoped>\n",
       "    .dataframe tbody tr th:only-of-type {\n",
       "        vertical-align: middle;\n",
       "    }\n",
       "\n",
       "    .dataframe tbody tr th {\n",
       "        vertical-align: top;\n",
       "    }\n",
       "\n",
       "    .dataframe thead th {\n",
       "        text-align: right;\n",
       "    }\n",
       "</style>\n",
       "<table border=\"1\" class=\"dataframe\">\n",
       "  <thead>\n",
       "    <tr style=\"text-align: right;\">\n",
       "      <th></th>\n",
       "      <th>RE</th>\n",
       "      <th>SeqName</th>\n",
       "    </tr>\n",
       "  </thead>\n",
       "  <tbody>\n",
       "    <tr>\n",
       "      <th>0</th>\n",
       "      <td>ArsI</td>\n",
       "      <td>MK968879.1 Homo sapiens isolate YHL_TK036_F4b1...</td>\n",
       "    </tr>\n",
       "    <tr>\n",
       "      <th>1</th>\n",
       "      <td>BglII</td>\n",
       "      <td>MK968879.1 Homo sapiens isolate YHL_TK036_F4b1...</td>\n",
       "    </tr>\n",
       "    <tr>\n",
       "      <th>2</th>\n",
       "      <td>FspI</td>\n",
       "      <td>MK968879.1 Homo sapiens isolate YHL_TK036_F4b1...</td>\n",
       "    </tr>\n",
       "    <tr>\n",
       "      <th>3</th>\n",
       "      <td>PspOMII</td>\n",
       "      <td>MK968879.1 Homo sapiens isolate YHL_TK036_F4b1...</td>\n",
       "    </tr>\n",
       "    <tr>\n",
       "      <th>4</th>\n",
       "      <td>MteI</td>\n",
       "      <td>MK968879.1 Homo sapiens isolate YHL_TK036_F4b1...</td>\n",
       "    </tr>\n",
       "  </tbody>\n",
       "</table>\n",
       "</div>"
      ],
      "text/plain": [
       "        RE                                            SeqName\n",
       "0     ArsI  MK968879.1 Homo sapiens isolate YHL_TK036_F4b1...\n",
       "1    BglII  MK968879.1 Homo sapiens isolate YHL_TK036_F4b1...\n",
       "2     FspI  MK968879.1 Homo sapiens isolate YHL_TK036_F4b1...\n",
       "3  PspOMII  MK968879.1 Homo sapiens isolate YHL_TK036_F4b1...\n",
       "4     MteI  MK968879.1 Homo sapiens isolate YHL_TK036_F4b1..."
      ]
     },
     "execution_count": 11,
     "metadata": {},
     "output_type": "execute_result"
    }
   ],
   "source": [
    "pot_rs = []\n",
    "for xx in collection_of_pot_rs:\n",
    "    for x in xx:\n",
    "        pot_rs.append(x)\n",
    "\n",
    "re_without_site = pd.DataFrame(pot_rs)\n",
    "re_without_site.to_csv(\"../data/interim/re_without_site.csv\", index=None)\n",
    "re_without_site.head()"
   ]
  },
  {
   "cell_type": "code",
   "execution_count": 16,
   "metadata": {},
   "outputs": [
    {
     "data": {
      "text/html": [
       "<div>\n",
       "<style scoped>\n",
       "    .dataframe tbody tr th:only-of-type {\n",
       "        vertical-align: middle;\n",
       "    }\n",
       "\n",
       "    .dataframe tbody tr th {\n",
       "        vertical-align: top;\n",
       "    }\n",
       "\n",
       "    .dataframe thead th {\n",
       "        text-align: right;\n",
       "    }\n",
       "</style>\n",
       "<table border=\"1\" class=\"dataframe\">\n",
       "  <thead>\n",
       "    <tr style=\"text-align: right;\">\n",
       "      <th></th>\n",
       "      <th>RE</th>\n",
       "      <th>NotCuttedSeqsNum</th>\n",
       "      <th>Percentage</th>\n",
       "    </tr>\n",
       "  </thead>\n",
       "  <tbody>\n",
       "    <tr>\n",
       "      <th>0</th>\n",
       "      <td>Sse232I</td>\n",
       "      <td>56445</td>\n",
       "      <td>100.0</td>\n",
       "    </tr>\n",
       "    <tr>\n",
       "      <th>1</th>\n",
       "      <td>SwaI</td>\n",
       "      <td>56445</td>\n",
       "      <td>100.0</td>\n",
       "    </tr>\n",
       "    <tr>\n",
       "      <th>2</th>\n",
       "      <td>Sse8387I</td>\n",
       "      <td>56445</td>\n",
       "      <td>100.0</td>\n",
       "    </tr>\n",
       "    <tr>\n",
       "      <th>3</th>\n",
       "      <td>MreI</td>\n",
       "      <td>56445</td>\n",
       "      <td>100.0</td>\n",
       "    </tr>\n",
       "    <tr>\n",
       "      <th>4</th>\n",
       "      <td>MauBI</td>\n",
       "      <td>56445</td>\n",
       "      <td>100.0</td>\n",
       "    </tr>\n",
       "  </tbody>\n",
       "</table>\n",
       "</div>"
      ],
      "text/plain": [
       "         RE  NotCuttedSeqsNum  Percentage\n",
       "0   Sse232I             56445       100.0\n",
       "1      SwaI             56445       100.0\n",
       "2  Sse8387I             56445       100.0\n",
       "3      MreI             56445       100.0\n",
       "4     MauBI             56445       100.0"
      ]
     },
     "execution_count": 16,
     "metadata": {},
     "output_type": "execute_result"
    }
   ],
   "source": [
    "re_maximal_subset = re_without_site.RE.value_counts().reset_index()\n",
    "re_maximal_subset.columns = [\"RE\", \"NotCuttedSeqsNum\"]\n",
    "re_maximal_subset[\"Percentage\"] = re_maximal_subset.NotCuttedSeqsNum / len(collection_of_pot_rs) * 100\n",
    "re_maximal_subset.to_csv(\"../data/processed/NotCuttedSeqsNum.csv\", index=None)\n",
    "re_maximal_subset.head()"
   ]
  },
  {
   "cell_type": "markdown",
   "metadata": {},
   "source": [
    "## Search of minimal subset of REs that destroy muclear DNA\n",
    "\n",
    "1. initially need to add to the set ClaI, as RE that cut mtDNA only one time\n",
    "2. drop RE dublicates\n",
    "3. apply approach from GO hw2"
   ]
  },
  {
   "cell_type": "code",
   "execution_count": 5,
   "metadata": {},
   "outputs": [
    {
     "data": {
      "text/html": [
       "<div>\n",
       "<style scoped>\n",
       "    .dataframe tbody tr th:only-of-type {\n",
       "        vertical-align: middle;\n",
       "    }\n",
       "\n",
       "    .dataframe tbody tr th {\n",
       "        vertical-align: top;\n",
       "    }\n",
       "\n",
       "    .dataframe thead th {\n",
       "        text-align: right;\n",
       "    }\n",
       "</style>\n",
       "<table border=\"1\" class=\"dataframe\">\n",
       "  <thead>\n",
       "    <tr style=\"text-align: right;\">\n",
       "      <th></th>\n",
       "      <th>RE</th>\n",
       "      <th>NotCuttedSeqsNum</th>\n",
       "      <th>Percentage</th>\n",
       "    </tr>\n",
       "  </thead>\n",
       "  <tbody>\n",
       "    <tr>\n",
       "      <th>0</th>\n",
       "      <td>Sse232I</td>\n",
       "      <td>56445</td>\n",
       "      <td>100.000000</td>\n",
       "    </tr>\n",
       "    <tr>\n",
       "      <th>1</th>\n",
       "      <td>SwaI</td>\n",
       "      <td>56445</td>\n",
       "      <td>100.000000</td>\n",
       "    </tr>\n",
       "    <tr>\n",
       "      <th>2</th>\n",
       "      <td>Sse8387I</td>\n",
       "      <td>56445</td>\n",
       "      <td>100.000000</td>\n",
       "    </tr>\n",
       "    <tr>\n",
       "      <th>3</th>\n",
       "      <td>MreI</td>\n",
       "      <td>56445</td>\n",
       "      <td>100.000000</td>\n",
       "    </tr>\n",
       "    <tr>\n",
       "      <th>4</th>\n",
       "      <td>MauBI</td>\n",
       "      <td>56445</td>\n",
       "      <td>100.000000</td>\n",
       "    </tr>\n",
       "    <tr>\n",
       "      <th>...</th>\n",
       "      <td>...</td>\n",
       "      <td>...</td>\n",
       "      <td>...</td>\n",
       "    </tr>\n",
       "    <tr>\n",
       "      <th>255</th>\n",
       "      <td>Cma23826I</td>\n",
       "      <td>1</td>\n",
       "      <td>0.001772</td>\n",
       "    </tr>\n",
       "    <tr>\n",
       "      <th>256</th>\n",
       "      <td>Acc65V</td>\n",
       "      <td>1</td>\n",
       "      <td>0.001772</td>\n",
       "    </tr>\n",
       "    <tr>\n",
       "      <th>257</th>\n",
       "      <td>PpiP13II</td>\n",
       "      <td>1</td>\n",
       "      <td>0.001772</td>\n",
       "    </tr>\n",
       "    <tr>\n",
       "      <th>258</th>\n",
       "      <td>Sse8647I</td>\n",
       "      <td>1</td>\n",
       "      <td>0.001772</td>\n",
       "    </tr>\n",
       "    <tr>\n",
       "      <th>259</th>\n",
       "      <td>AccB7I</td>\n",
       "      <td>1</td>\n",
       "      <td>0.001772</td>\n",
       "    </tr>\n",
       "  </tbody>\n",
       "</table>\n",
       "<p>260 rows × 3 columns</p>\n",
       "</div>"
      ],
      "text/plain": [
       "            RE  NotCuttedSeqsNum  Percentage\n",
       "0      Sse232I             56445  100.000000\n",
       "1         SwaI             56445  100.000000\n",
       "2     Sse8387I             56445  100.000000\n",
       "3         MreI             56445  100.000000\n",
       "4        MauBI             56445  100.000000\n",
       "..         ...               ...         ...\n",
       "255  Cma23826I                 1    0.001772\n",
       "256     Acc65V                 1    0.001772\n",
       "257   PpiP13II                 1    0.001772\n",
       "258   Sse8647I                 1    0.001772\n",
       "259     AccB7I                 1    0.001772\n",
       "\n",
       "[260 rows x 3 columns]"
      ]
     },
     "execution_count": 5,
     "metadata": {},
     "output_type": "execute_result"
    }
   ],
   "source": [
    "re_maximal_subset = pd.read_csv(\"../data/processed/NotCuttedSeqsNum.csv\")\n",
    "re_maximal_subset"
   ]
  },
  {
   "cell_type": "code",
   "execution_count": 6,
   "metadata": {},
   "outputs": [
    {
     "name": "stdout",
     "output_type": "stream",
     "text": [
      "(103,)\n"
     ]
    },
    {
     "data": {
      "text/plain": [
       "array(['Sse232I', 'SwaI', 'Sse8387I', 'MreI', 'MauBI', 'NotI', 'AscI',\n",
       "       'SgrDI', 'AbsI', 'SmiI', 'SbfI', 'PalAI', 'MteI', 'CciNI', 'SgsI',\n",
       "       'FspAI', 'SdaI', 'AsiSI', 'RigI', 'RgaI', 'FseI', 'SfaAI', 'SgfI',\n",
       "       'NpeUS61II', 'MluI', 'SrfI', 'CspI', 'Rsr2I', 'Sth20745III',\n",
       "       'RsrII', 'CpoI', 'GauT27I', 'TspARh3I', 'SfiI', 'Bsp460III',\n",
       "       'McaTI', 'BssHII', 'PauI', 'PteI', 'Pst273I', 'BsePI', 'BoxI',\n",
       "       'PshAI', 'BstPAI', 'Lmo370I', 'PvuI', 'Ple19I', 'BshTI', 'AgeI',\n",
       "       'CspAI', 'PinAI', 'AsiGI', 'PspXI', 'Eco72I', 'PmaCI', 'AcvI',\n",
       "       'PmlI', 'PspCI', 'BbrPI', 'SmaI', 'XmaI', 'Cfr9I', 'TspMI',\n",
       "       'RpaB5I', 'Ssp714II', 'Ecl35734I', 'AdeI', 'DraIII', 'MspSC27II',\n",
       "       'BtuMI', 'NruI', 'Bsp68I', 'RruI', 'BspGI', 'AspJHL3II', 'SstE37I',\n",
       "       'UbaF13I', 'ArsI', 'BglII', 'TssI', 'PsrI', 'MabI', 'CsiI',\n",
       "       'SexAI', 'DseDI', 'DrdI', 'AasI', 'PspOMII', 'MstI', 'NsbI',\n",
       "       'FspI', 'Acc16I', 'RpaBI', 'UbaF12I', 'CspCI', 'PfrJS12V',\n",
       "       'CcrNAIII', 'SalI', 'SgrAII', 'HspMHR1II', 'Bse8I', 'BsaBI',\n",
       "       'BseJI'], dtype=object)"
      ]
     },
     "execution_count": 6,
     "metadata": {},
     "output_type": "execute_result"
    }
   ],
   "source": [
    "# sample RE that don't cut most of mtDNA\n",
    "cutoff = 95 # %\n",
    "REs_without_site_on_mt = re_maximal_subset[re_maximal_subset.Percentage > cutoff].RE.values\n",
    "print(REs_without_site_on_mt.shape)\n",
    "REs_without_site_on_mt"
   ]
  },
  {
   "cell_type": "code",
   "execution_count": 7,
   "metadata": {},
   "outputs": [
    {
     "data": {
      "text/plain": [
       "RestrictionBatch(['AasI', 'AbsI', 'Acc16I', 'AcvI', 'AdeI', 'AgeI', 'ArsI', 'AscI', 'AsiGI', 'AsiSI', 'AspJHL3II', 'BbrPI', 'BglII', 'BoxI', 'BsaBI', 'Bse8I', 'BseJI', 'BsePI', 'BshTI', 'Bsp460III', 'Bsp68I', 'BspGI', 'BssHII', 'BstPAI', 'BtuMI', 'CciNI', 'CcrNAIII', 'Cfr9I', 'CpoI', 'CsiI', 'CspAI', 'CspCI', 'CspI', 'DraIII', 'DrdI', 'DseDI', 'Ecl35734I', 'Eco72I', 'FseI', 'FspAI', 'FspI', 'GauT27I', 'HspMHR1II', 'Lmo370I', 'MabI', 'MauBI', 'McaTI', 'MluI', 'MreI', 'MspSC27II', 'MstI', 'MteI', 'NotI', 'NpeUS61II', 'NruI', 'NsbI', 'PalAI', 'PauI', 'PfrJS12V', 'PinAI', 'Ple19I', 'PmaCI', 'PmlI', 'PshAI', 'PspCI', 'PspOMII', 'PspXI', 'PsrI', 'Pst273I', 'PteI', 'PvuI', 'RgaI', 'RigI', 'RpaB5I', 'RpaBI', 'RruI', 'Rsr2I', 'RsrII', 'SalI', 'SbfI', 'SdaI', 'SexAI', 'SfaAI', 'SfiI', 'SgfI', 'SgrAII', 'SgrDI', 'SgsI', 'SmaI', 'SmiI', 'SrfI', 'Sse232I', 'Sse8387I', 'Ssp714II', 'SstE37I', 'Sth20745III', 'SwaI', 'TspARh3I', 'TspMI', 'TssI', 'UbaF12I', 'UbaF13I', 'XmaI'])"
      ]
     },
     "execution_count": 7,
     "metadata": {},
     "output_type": "execute_result"
    }
   ],
   "source": [
    "# create sample batch (custom data structure)\n",
    "ClaI = AllEnzymes.get(\"ClaI\")\n",
    "excess_maximal_subset = RestrictionBatch(REs_without_site_on_mt)\n",
    "excess_maximal_subset"
   ]
  },
  {
   "cell_type": "code",
   "execution_count": 8,
   "metadata": {},
   "outputs": [],
   "source": [
    "def collect_isoschizomers(enzymes: RestrictionBatch) -> List[List[str]]:\n",
    "    \"\"\"Search and collect all isoschizomers in passed enzymes\"\"\"\n",
    "    data = []\n",
    "    visited = set()\n",
    "    for RE in enzymes:\n",
    "        if repr(RE) in visited:\n",
    "            continue\n",
    "\n",
    "        visited.add(repr(RE))\n",
    "        isosh_names = []\n",
    "        for isosh in RE.isoschizomers():\n",
    "            visited.add(repr(isosh))\n",
    "            isosh_names.append(repr(isosh))\n",
    "        data.append([repr(RE)] + isosh_names)\n",
    "    return data"
   ]
  },
  {
   "cell_type": "code",
   "execution_count": 9,
   "metadata": {},
   "outputs": [],
   "source": [
    "# # collect full collection of isoschizomers\n",
    "# full_isosh = collect_isoschizomers(AllEnzymes)\n",
    "# with open(\"../data/processed/full_isoschizomers.txt\", \"w\") as fout:\n",
    "#     for batch in full_isosh:\n",
    "#         fout.write(\",\".join(batch) + \"\\n\")"
   ]
  },
  {
   "cell_type": "code",
   "execution_count": 10,
   "metadata": {},
   "outputs": [
    {
     "name": "stdout",
     "output_type": "stream",
     "text": [
      "57\n"
     ]
    },
    {
     "data": {
      "text/plain": [
       "RestrictionBatch(['AbsI', 'ArsI', 'AspJHL3II', 'BglII', 'Bse8I', 'BshTI', 'Bsp460III', 'BspGI', 'BssHII', 'BstPAI', 'CcrNAIII', 'Cfr9I', 'CspCI', 'DraIII', 'DseDI', 'Ecl35734I', 'Eco72I', 'FspAI', 'GauT27I', 'HspMHR1II', 'Lmo370I', 'MauBI', 'MluI', 'MreI', 'MspSC27II', 'MstI', 'MteI', 'NotI', 'NpeUS61II', 'PalAI', 'PfrJS12V', 'PspOMII', 'PspXI', 'PsrI', 'Pst273I', 'PvuI', 'RgaI', 'RigI', 'RpaB5I', 'RpaBI', 'RruI', 'RsrII', 'SalI', 'SexAI', 'SfiI', 'SgrAII', 'SgrDI', 'SmiI', 'SrfI', 'Sse8387I', 'Ssp714II', 'SstE37I', 'Sth20745III', 'TspARh3I', 'TssI', 'UbaF12I', 'UbaF13I'])"
      ]
     },
     "execution_count": 10,
     "metadata": {},
     "output_type": "execute_result"
    }
   ],
   "source": [
    "# collect collection of isoschizomers for used sample REs\n",
    "sufficient_sample = []\n",
    "full_isosh = collect_isoschizomers(excess_maximal_subset)\n",
    "with open(\"../data/processed/used_re_isoschizomers.txt\", \"w\") as fout:\n",
    "    for batch in full_isosh:\n",
    "        sufficient_sample.append(batch[0])\n",
    "        fout.write(\",\".join(batch) + \"\\n\")\n",
    "\n",
    "print(len(sufficient_sample))\n",
    "maximal_subset = RestrictionBatch(sufficient_sample)\n",
    "maximal_subset"
   ]
  },
  {
   "cell_type": "code",
   "execution_count": 11,
   "metadata": {},
   "outputs": [],
   "source": [
    "for fp in glob.glob(\"../data/external/GCF_000001405.40/ncbi_dataset/data/GCF_000001405.40/*.fna\"):\n",
    "    if \"chrMT\" in fp:\n",
    "        continue\n",
    "    \n",
    "    for record in SeqIO.parse(fp, format=\"fasta\"):\n",
    "        # ana = Analysis(maximal_subset, record.seq)\n",
    "        # for enzyme, positions in ana.with_sites().items():\n",
    "        #     # use values to sort and write to table\n",
    "        #     # after that analize table and create subset\n",
    "        #     break\n",
    "            \n",
    "\n",
    "        break\n",
    "    break"
   ]
  },
  {
   "cell_type": "code",
   "execution_count": 12,
   "metadata": {},
   "outputs": [],
   "source": [
    "ana = Analysis(maximal_subset, record.seq)"
   ]
  },
  {
   "cell_type": "code",
   "execution_count": 67,
   "metadata": {},
   "outputs": [
    {
     "data": {
      "text/plain": [
       "(SeqRecord(seq=Seq('NNNNNNNNNNNNNNNNNNNNNNNNNNNNNNNNNNNNNNNNNNNNNNNNNNNNNN...NNN'), id='NC_000014.9', name='NC_000014.9', description='NC_000014.9 Homo sapiens chromosome 14, GRCh38.p14 Primary Assembly', dbxrefs=[]),\n",
       " 107043718)"
      ]
     },
     "execution_count": 67,
     "metadata": {},
     "output_type": "execute_result"
    }
   ],
   "source": [
    "record, len(record)"
   ]
  },
  {
   "cell_type": "code",
   "execution_count": 18,
   "metadata": {},
   "outputs": [
    {
     "data": {
      "text/html": [
       "<div>\n",
       "<style scoped>\n",
       "    .dataframe tbody tr th:only-of-type {\n",
       "        vertical-align: middle;\n",
       "    }\n",
       "\n",
       "    .dataframe tbody tr th {\n",
       "        vertical-align: top;\n",
       "    }\n",
       "\n",
       "    .dataframe thead th {\n",
       "        text-align: right;\n",
       "    }\n",
       "</style>\n",
       "<table border=\"1\" class=\"dataframe\">\n",
       "  <thead>\n",
       "    <tr style=\"text-align: right;\">\n",
       "      <th></th>\n",
       "      <th>RE</th>\n",
       "      <th>Pos</th>\n",
       "    </tr>\n",
       "  </thead>\n",
       "  <tbody>\n",
       "    <tr>\n",
       "      <th>159882</th>\n",
       "      <td>Eco72I</td>\n",
       "      <td>16000812</td>\n",
       "    </tr>\n",
       "    <tr>\n",
       "      <th>66326</th>\n",
       "      <td>DraIII</td>\n",
       "      <td>16000815</td>\n",
       "    </tr>\n",
       "    <tr>\n",
       "      <th>307962</th>\n",
       "      <td>Ecl35734I</td>\n",
       "      <td>16001785</td>\n",
       "    </tr>\n",
       "    <tr>\n",
       "      <th>353802</th>\n",
       "      <td>ArsI</td>\n",
       "      <td>16003465</td>\n",
       "    </tr>\n",
       "    <tr>\n",
       "      <th>353803</th>\n",
       "      <td>ArsI</td>\n",
       "      <td>16003497</td>\n",
       "    </tr>\n",
       "    <tr>\n",
       "      <th>...</th>\n",
       "      <td>...</td>\n",
       "      <td>...</td>\n",
       "    </tr>\n",
       "    <tr>\n",
       "      <th>159881</th>\n",
       "      <td>BstPAI</td>\n",
       "      <td>106883621</td>\n",
       "    </tr>\n",
       "    <tr>\n",
       "      <th>206916</th>\n",
       "      <td>AspJHL3II</td>\n",
       "      <td>106883656</td>\n",
       "    </tr>\n",
       "    <tr>\n",
       "      <th>247162</th>\n",
       "      <td>UbaF13I</td>\n",
       "      <td>106883659</td>\n",
       "    </tr>\n",
       "    <tr>\n",
       "      <th>125010</th>\n",
       "      <td>PspOMII</td>\n",
       "      <td>106883683</td>\n",
       "    </tr>\n",
       "    <tr>\n",
       "      <th>378877</th>\n",
       "      <td>MreI</td>\n",
       "      <td>106883687</td>\n",
       "    </tr>\n",
       "  </tbody>\n",
       "</table>\n",
       "<p>380081 rows × 2 columns</p>\n",
       "</div>"
      ],
      "text/plain": [
       "               RE        Pos\n",
       "159882     Eco72I   16000812\n",
       "66326      DraIII   16000815\n",
       "307962  Ecl35734I   16001785\n",
       "353802       ArsI   16003465\n",
       "353803       ArsI   16003497\n",
       "...           ...        ...\n",
       "159881     BstPAI  106883621\n",
       "206916  AspJHL3II  106883656\n",
       "247162    UbaF13I  106883659\n",
       "125010    PspOMII  106883683\n",
       "378877       MreI  106883687\n",
       "\n",
       "[380081 rows x 2 columns]"
      ]
     },
     "execution_count": 18,
     "metadata": {},
     "output_type": "execute_result"
    }
   ],
   "source": [
    "data = []\n",
    "for enzyme, positions in ana.with_sites().items():\n",
    "    for pos in positions:\n",
    "        data.append({\"RE\": repr(enzyme), \"Pos\": pos})\n",
    "cutpos = pd.DataFrame(data).sort_values(\"Pos\")\n",
    "cutpos.to_csv(\"../data/interim/Chr1_cutpos.csv\", index=None)\n",
    "cutpos"
   ]
  },
  {
   "cell_type": "code",
   "execution_count": 35,
   "metadata": {},
   "outputs": [],
   "source": [
    "cutpos.reset_index(drop=True, inplace=True)"
   ]
  },
  {
   "cell_type": "code",
   "execution_count": 41,
   "metadata": {},
   "outputs": [],
   "source": [
    "data = []\n",
    "intervals = []\n",
    "beg = 0\n",
    "prev_RE = None\n",
    "for i, row in cutpos.iterrows():\n",
    "    end = row.Pos\n",
    "    data.append({\n",
    "        \"Begin\": beg,\n",
    "        \"End\": end,\n",
    "        \"REbegin\": prev_RE,\n",
    "        \"REend\": row.RE,\n",
    "        \"Lenght\": end - beg,\n",
    "    })\n",
    "    beg = end\n",
    "    prev_RE = row.RE\n",
    "\n",
    "df = pd.DataFrame(data)"
   ]
  },
  {
   "cell_type": "code",
   "execution_count": 42,
   "metadata": {},
   "outputs": [
    {
     "data": {
      "text/html": [
       "<div>\n",
       "<style scoped>\n",
       "    .dataframe tbody tr th:only-of-type {\n",
       "        vertical-align: middle;\n",
       "    }\n",
       "\n",
       "    .dataframe tbody tr th {\n",
       "        vertical-align: top;\n",
       "    }\n",
       "\n",
       "    .dataframe thead th {\n",
       "        text-align: right;\n",
       "    }\n",
       "</style>\n",
       "<table border=\"1\" class=\"dataframe\">\n",
       "  <thead>\n",
       "    <tr style=\"text-align: right;\">\n",
       "      <th></th>\n",
       "      <th>Begin</th>\n",
       "      <th>End</th>\n",
       "      <th>REbegin</th>\n",
       "      <th>REend</th>\n",
       "      <th>Lenght</th>\n",
       "    </tr>\n",
       "  </thead>\n",
       "  <tbody>\n",
       "    <tr>\n",
       "      <th>0</th>\n",
       "      <td>0</td>\n",
       "      <td>16000812</td>\n",
       "      <td>None</td>\n",
       "      <td>Eco72I</td>\n",
       "      <td>16000812</td>\n",
       "    </tr>\n",
       "    <tr>\n",
       "      <th>1</th>\n",
       "      <td>16000812</td>\n",
       "      <td>16000815</td>\n",
       "      <td>Eco72I</td>\n",
       "      <td>DraIII</td>\n",
       "      <td>3</td>\n",
       "    </tr>\n",
       "    <tr>\n",
       "      <th>2</th>\n",
       "      <td>16000815</td>\n",
       "      <td>16001785</td>\n",
       "      <td>DraIII</td>\n",
       "      <td>Ecl35734I</td>\n",
       "      <td>970</td>\n",
       "    </tr>\n",
       "    <tr>\n",
       "      <th>3</th>\n",
       "      <td>16001785</td>\n",
       "      <td>16003465</td>\n",
       "      <td>Ecl35734I</td>\n",
       "      <td>ArsI</td>\n",
       "      <td>1680</td>\n",
       "    </tr>\n",
       "    <tr>\n",
       "      <th>4</th>\n",
       "      <td>16003465</td>\n",
       "      <td>16003497</td>\n",
       "      <td>ArsI</td>\n",
       "      <td>ArsI</td>\n",
       "      <td>32</td>\n",
       "    </tr>\n",
       "    <tr>\n",
       "      <th>...</th>\n",
       "      <td>...</td>\n",
       "      <td>...</td>\n",
       "      <td>...</td>\n",
       "      <td>...</td>\n",
       "      <td>...</td>\n",
       "    </tr>\n",
       "    <tr>\n",
       "      <th>380076</th>\n",
       "      <td>106883553</td>\n",
       "      <td>106883621</td>\n",
       "      <td>BssHII</td>\n",
       "      <td>BstPAI</td>\n",
       "      <td>68</td>\n",
       "    </tr>\n",
       "    <tr>\n",
       "      <th>380077</th>\n",
       "      <td>106883621</td>\n",
       "      <td>106883656</td>\n",
       "      <td>BstPAI</td>\n",
       "      <td>AspJHL3II</td>\n",
       "      <td>35</td>\n",
       "    </tr>\n",
       "    <tr>\n",
       "      <th>380078</th>\n",
       "      <td>106883656</td>\n",
       "      <td>106883659</td>\n",
       "      <td>AspJHL3II</td>\n",
       "      <td>UbaF13I</td>\n",
       "      <td>3</td>\n",
       "    </tr>\n",
       "    <tr>\n",
       "      <th>380079</th>\n",
       "      <td>106883659</td>\n",
       "      <td>106883683</td>\n",
       "      <td>UbaF13I</td>\n",
       "      <td>PspOMII</td>\n",
       "      <td>24</td>\n",
       "    </tr>\n",
       "    <tr>\n",
       "      <th>380080</th>\n",
       "      <td>106883683</td>\n",
       "      <td>106883687</td>\n",
       "      <td>PspOMII</td>\n",
       "      <td>MreI</td>\n",
       "      <td>4</td>\n",
       "    </tr>\n",
       "  </tbody>\n",
       "</table>\n",
       "<p>380081 rows × 5 columns</p>\n",
       "</div>"
      ],
      "text/plain": [
       "            Begin        End    REbegin      REend    Lenght\n",
       "0               0   16000812       None     Eco72I  16000812\n",
       "1        16000812   16000815     Eco72I     DraIII         3\n",
       "2        16000815   16001785     DraIII  Ecl35734I       970\n",
       "3        16001785   16003465  Ecl35734I       ArsI      1680\n",
       "4        16003465   16003497       ArsI       ArsI        32\n",
       "...           ...        ...        ...        ...       ...\n",
       "380076  106883553  106883621     BssHII     BstPAI        68\n",
       "380077  106883621  106883656     BstPAI  AspJHL3II        35\n",
       "380078  106883656  106883659  AspJHL3II    UbaF13I         3\n",
       "380079  106883659  106883683    UbaF13I    PspOMII        24\n",
       "380080  106883683  106883687    PspOMII       MreI         4\n",
       "\n",
       "[380081 rows x 5 columns]"
      ]
     },
     "execution_count": 42,
     "metadata": {},
     "output_type": "execute_result"
    }
   ],
   "source": [
    "df"
   ]
  },
  {
   "cell_type": "code",
   "execution_count": 47,
   "metadata": {},
   "outputs": [
    {
     "data": {
      "text/plain": [
       "4545        1\n",
       "4799        1\n",
       "5086        1\n",
       "5331        1\n",
       "5424        1\n",
       "12489       1\n",
       "51955       1\n",
       "100145      1\n",
       "150255      1\n",
       "16000812    1\n",
       "Name: Lenght, dtype: int64"
      ]
     },
     "execution_count": 47,
     "metadata": {},
     "output_type": "execute_result"
    }
   ],
   "source": [
    "df.Lenght.value_counts().sort_index().tail(10)"
   ]
  },
  {
   "cell_type": "code",
   "execution_count": 17,
   "metadata": {},
   "outputs": [],
   "source": [
    "x = pd.Series(cutpos.Pos.values[1:] - cutpos.Pos.values[:-1])\n",
    "y = x.value_counts()"
   ]
  },
  {
   "cell_type": "code",
   "execution_count": null,
   "metadata": {},
   "outputs": [],
   "source": []
  },
  {
   "cell_type": "code",
   "execution_count": null,
   "metadata": {},
   "outputs": [],
   "source": [
    "# for fp in glob.glob(\"../data/external/GCF_000001405.40/ncbi_dataset/data/GCF_000001405.40/*.fna\"):\n",
    "#     if \"chrMT\" in fp:\n",
    "#         continue\n",
    "    \n",
    "#     for record in SeqIO.parse(fp, format=\"fasta\"):\n",
    "#         for partof_chr in re.split(\"N{50,}\", record):\n",
    "#             if \"mt\" in partof_chr.description.lower():\n",
    "#                 continue\n",
    "#             ana = Analysis(maximal_subset, partof_chr.seq)\n",
    "#             for enzyme, positions in ana.with_sites().items():\n",
    "#                 # use values to sort and write to table\n",
    "#                 # after that analize table and create subset\n",
    "#                 pass\n",
    "            \n",
    "\n",
    "#         break"
   ]
  },
  {
   "cell_type": "code",
   "execution_count": null,
   "metadata": {},
   "outputs": [],
   "source": []
  },
  {
   "cell_type": "code",
   "execution_count": null,
   "metadata": {},
   "outputs": [],
   "source": []
  },
  {
   "cell_type": "code",
   "execution_count": null,
   "metadata": {},
   "outputs": [],
   "source": []
  },
  {
   "cell_type": "code",
   "execution_count": null,
   "metadata": {},
   "outputs": [],
   "source": []
  }
 ],
 "metadata": {
  "kernelspec": {
   "display_name": "Python 3.9.5 ('env_bio')",
   "language": "python",
   "name": "python3"
  },
  "language_info": {
   "codemirror_mode": {
    "name": "ipython",
    "version": 3
   },
   "file_extension": ".py",
   "mimetype": "text/x-python",
   "name": "python",
   "nbconvert_exporter": "python",
   "pygments_lexer": "ipython3",
   "version": "3.9.5"
  },
  "orig_nbformat": 4,
  "vscode": {
   "interpreter": {
    "hash": "c737589ac25c2b5207a58295544dae93bde342e9f173b68ed1d9625ade55517f"
   }
  }
 },
 "nbformat": 4,
 "nbformat_minor": 2
}
