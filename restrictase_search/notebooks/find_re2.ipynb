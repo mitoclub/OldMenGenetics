{
 "cells": [
  {
   "cell_type": "markdown",
   "metadata": {},
   "source": [
    "## We need to find set of REs that:\n",
    "1. one of the REs must cut human mtDNA only one time\n",
    "2. other REs must not cut mtDNA but must cut nuclear DNA to pieces less than 3-5kb"
   ]
  },
  {
   "cell_type": "code",
   "execution_count": 29,
   "metadata": {},
   "outputs": [],
   "source": [
    "import random\n",
    "from collections import Counter\n",
    "from multiprocessing import Pool\n",
    "from typing import Dict, List\n",
    "\n",
    "import pandas as pd\n",
    "from Bio.Restriction import Analysis, AllEnzymes, RestrictionBatch\n",
    "from Bio.SeqRecord import SeqRecord\n",
    "from Bio import SeqIO\n",
    "import tqdm"
   ]
  },
  {
   "cell_type": "code",
   "execution_count": 30,
   "metadata": {},
   "outputs": [],
   "source": [
    "PIECES_SIZE = 5000\n",
    "PATH_TO_HUMAN_GENOME = \"\"\n",
    "PATH_TO_RE = \"../data/processed/cuted_seqs_num.csv\"\n",
    "PATH_TO_REF_MT = \"../data/external/NC_012920.1.fasta\"\n",
    "PATH_TO_SEQS_MT = \"../data/raw/...\"\n",
    "\n",
    "PATH_TO_OUT_RE_WITHOUT_SITE = \"../data/processed/...\""
   ]
  },
  {
   "cell_type": "code",
   "execution_count": 4,
   "metadata": {},
   "outputs": [
    {
     "data": {
      "text/plain": [
       "978"
      ]
     },
     "execution_count": 4,
     "metadata": {},
     "output_type": "execute_result"
    }
   ],
   "source": [
    "len(AllEnzymes)"
   ]
  },
  {
   "cell_type": "code",
   "execution_count": 11,
   "metadata": {},
   "outputs": [
    {
     "data": {
      "text/plain": [
       "SeqRecord(seq=Seq('GATCACAGGTCTATCACCCTATTAACCACTCACGGGAGCTCTCCATGCATTTGG...ATG'), id='NC_012920.1', name='NC_012920.1', description='NC_012920.1 Homo sapiens mitochondrion, complete genome', dbxrefs=[])"
      ]
     },
     "execution_count": 11,
     "metadata": {},
     "output_type": "execute_result"
    }
   ],
   "source": [
    "ref_mt = next(SeqIO.parse(PATH_TO_REF_MT, \"fasta\"))\n",
    "ref_mt"
   ]
  },
  {
   "cell_type": "markdown",
   "metadata": {},
   "source": [
    "## Search the enzymes that don't cut mtDNA"
   ]
  },
  {
   "cell_type": "code",
   "execution_count": null,
   "metadata": {},
   "outputs": [],
   "source": [
    "def extract_RE_without_site_on_mt(rec: SeqRecord) -> List[Dict]:\n",
    "    ana = Analysis(AllEnzymes, rec.seq, linear=False)\n",
    "    data = []\n",
    "    for restr_enz in ana.without_site():\n",
    "        re_name = repr(restr_enz)\n",
    "        one_data = {\"RE\": re_name, \"SeqName\": rec.description}\n",
    "        data.append(one_data)\n",
    "    return data"
   ]
  },
  {
   "cell_type": "code",
   "execution_count": null,
   "metadata": {},
   "outputs": [],
   "source": [
    "# more than 1 hour and 10GB of RAM\n",
    "\n",
    "threads = 24\n",
    "fasta = SeqIO.parse(PATH_TO_SEQS_MT, \"fasta\")\n",
    "with Pool(threads) as p:\n",
    "    collection_of_pot_rs = p.map(extract_RE_without_site_on_mt, fasta)"
   ]
  },
  {
   "cell_type": "code",
   "execution_count": null,
   "metadata": {},
   "outputs": [],
   "source": [
    "pot_rs = []\n",
    "for xx in collection_of_pot_rs:\n",
    "    for x in xx:\n",
    "        pot_rs.append(x)\n",
    "\n",
    "df = pd.DataFrame(pot_rs)\n",
    "df.to_csv(PATH_TO_OUT_RE_WITHOUT_SITE, index=None)\n",
    "\n",
    "df_counts = df.RE.value_counts().reset_index()\n",
    "df_counts.columns = [\"RE\", \"CuttedSeqs\"]\n",
    "df_counts.to_csv(PATH_TO_OUT_CUTNUM, index=None)\n"
   ]
  },
  {
   "cell_type": "code",
   "execution_count": null,
   "metadata": {},
   "outputs": [],
   "source": []
  },
  {
   "cell_type": "code",
   "execution_count": null,
   "metadata": {},
   "outputs": [],
   "source": []
  },
  {
   "cell_type": "code",
   "execution_count": null,
   "metadata": {},
   "outputs": [],
   "source": []
  },
  {
   "cell_type": "code",
   "execution_count": null,
   "metadata": {},
   "outputs": [],
   "source": []
  }
 ],
 "metadata": {
  "interpreter": {
   "hash": "faab97b70612bf02f352dc992d51cfde0491124dee3610712001439afebe5dcb"
  },
  "kernelspec": {
   "display_name": "Python 3.8.10 ('env_bio')",
   "language": "python",
   "name": "python3"
  },
  "language_info": {
   "codemirror_mode": {
    "name": "ipython",
    "version": 3
   },
   "file_extension": ".py",
   "mimetype": "text/x-python",
   "name": "python",
   "nbconvert_exporter": "python",
   "pygments_lexer": "ipython3",
   "version": "3.8.10"
  },
  "orig_nbformat": 4
 },
 "nbformat": 4,
 "nbformat_minor": 2
}
